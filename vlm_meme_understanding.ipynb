{
  "cells": [
    {
      "cell_type": "code",
      "execution_count": null,
      "metadata": {
        "id": "C9CLCxs4MP24"
      },
      "outputs": [],
      "source": [
        "!pip install fiftyone"
      ]
    },
    {
      "cell_type": "markdown",
      "metadata": {},
      "source": [
        "I've created plugins which allow you to easily use [🌔Moondream2](https://github.com/harpreetsahota204/moondream2-plugin) and [🐋Janus-Pro](https://github.com/harpreetsahota204/janus-vqa-fiftyone) with your FiftyOne dataset.\n",
        "\n",
        "Let's start by downloading the plugins and installing their dependencies.\n",
        "\n",
        "> The plugin framework lets you extend and customize the functionality of FiftyOne to suit your needs.  If you’re interested in learning more about plugins, you might be interested in attending one of our monthly workshops. You can [see the full schedule here](https://voxel51.com/computer-vision-events/) and look for the *Advanced Computer Vision Data Curation and Model Evaluation workshop*."
      ]
    },
    {
      "cell_type": "code",
      "execution_count": null,
      "metadata": {
        "id": "yd74M4nZMUWX"
      },
      "outputs": [],
      "source": [
        "!fiftyone plugins download https://github.com/harpreetsahota204/janus-vqa-fiftyone"
      ]
    },
    {
      "cell_type": "code",
      "execution_count": null,
      "metadata": {
        "id": "dWgglxjzLZJA"
      },
      "outputs": [],
      "source": [
        "!fiftyone plugins requirements @harpreetsahota/janus_vqa --install"
      ]
    },
    {
      "cell_type": "code",
      "execution_count": null,
      "metadata": {
        "id": "wCKj4BhFMUSp"
      },
      "outputs": [],
      "source": [
        "!fiftyone plugins download https://github.com/harpreetsahota204/moondream2-plugin"
      ]
    },
    {
      "cell_type": "code",
      "execution_count": null,
      "metadata": {
        "id": "ZFjRW8OoLbz2"
      },
      "outputs": [],
      "source": [
        "!fiftyone plugins requirements @harpreetsahota/moondream2 --install"
      ]
    },
    {
      "cell_type": "markdown",
      "metadata": {},
      "source": [
        "We also need to set an enviornment variable."
      ]
    },
    {
      "cell_type": "code",
      "execution_count": 1,
      "metadata": {
        "id": "oX1jZcOfn1qC"
      },
      "outputs": [],
      "source": [
        "import os\n",
        "\n",
        "os.environ['FIFTYONE_ALLOW_LEGACY_ORCHESTRATORS'] = 'true'"
      ]
    },
    {
      "cell_type": "markdown",
      "metadata": {},
      "source": [
        "I found [this webiste - scott.ai from Scott Penberthy](https://scott.ai/2019-08-06-memeified-ng) which had some awesome machine learning memes on it. I parsed these meme's into a FiftyOne dataset. You can download the dataset [from Hugging Face](https://huggingface.co/datasets/harpreetsahota/memes-dataset) as well."
      ]
    },
    {
      "cell_type": "code",
      "execution_count": null,
      "metadata": {
        "id": "avIS3aghMUZ5"
      },
      "outputs": [],
      "source": [
        "import fiftyone as fo\n",
        "from fiftyone.utils import huggingface as fouh\n",
        "\n",
        "ml_memes_dataset = fouh.load_from_hub(\n",
        "    \"harpreetsahota/ml-memes\",\n",
        "    name=\"ml-memes\",\n",
        "    overwrite=True\n",
        "    )"
      ]
    },
    {
      "cell_type": "markdown",
      "metadata": {},
      "source": [
        "Let's quickly explore the dataset:"
      ]
    },
    {
      "cell_type": "code",
      "execution_count": null,
      "metadata": {
        "id": "4x18zFcFQK2C"
      },
      "outputs": [],
      "source": [
        "fo.launch_app(ml_memes_dataset)"
      ]
    },
    {
      "cell_type": "markdown",
      "metadata": {
        "id": "4dAVhHbNPKJu"
      },
      "source": [
        "Now, let's instantiate our plugions as operators via the FiftyOne SDK.\n",
        "\n",
        "Alternatively, you can use the app and fill out the operator form. Just hit the backtick button (`) to open the operator menu. Type in “Moondream” or \"Janus\" and click on it. You'll be presented with a form to fill out, which takes the same information as what we will pass in via the SDK."
      ]
    },
    {
      "cell_type": "code",
      "execution_count": 6,
      "metadata": {
        "id": "GvEU33CzO5Qt"
      },
      "outputs": [],
      "source": [
        "import fiftyone.operators as foo\n",
        "\n",
        "janus_vqa = foo.get_operator(\"@harpreetsahota/janus_vqa/janus_vqa\")\n",
        "\n",
        "moondream = foo.get_operator(\"@harpreetsahota/moondream2/moondream\")"
      ]
    },
    {
      "cell_type": "markdown",
      "metadata": {},
      "source": [
        "Now let's kick off a delegated service by opening the terminal and running `fiftyone delegated launch`"
      ]
    },
    {
      "cell_type": "markdown",
      "metadata": {
        "id": "uPrq4sKRMUdB"
      },
      "source": [
        "# OCR\n",
        "\n",
        "Using OCR with Janus"
      ]
    },
    {
      "cell_type": "code",
      "execution_count": 7,
      "metadata": {
        "id": "7tTJDzXcOOC2"
      },
      "outputs": [
        {
          "data": {
            "text/plain": [
              "<fiftyone.operators.executor.ExecutionResult at 0x727d56dcf910>"
            ]
          },
          "execution_count": 7,
          "metadata": {},
          "output_type": "execute_result"
        }
      ],
      "source": [
        "QUESTION = \"What does the text on this image say? Respond only with the text on the image and nothing else.\"\n",
        "\n",
        "await janus_vqa(\n",
        "    ml_memes_dataset,\n",
        "    model_path=\"deepseek-ai/Janus-Pro-1B\",\n",
        "    question=QUESTION,\n",
        "    question_field=\"ocr_questions\",\n",
        "    answer_field=\"janus_ocr\",\n",
        "    delegate=True\n",
        "    )"
      ]
    },
    {
      "cell_type": "markdown",
      "metadata": {
        "id": "PgqDSoCNT0-0"
      },
      "source": [
        "And with Moondream2"
      ]
    },
    {
      "cell_type": "code",
      "execution_count": null,
      "metadata": {
        "id": "W0kwC9zUOOH9"
      },
      "outputs": [],
      "source": [
        "await moondream(\n",
        "    ml_memes_dataset,\n",
        "    revision=\"2025-01-09\",\n",
        "    operation=\"query\",\n",
        "    output_field=\"moondream_ocr\",\n",
        "    query_text=QUESTION,\n",
        "    delegate=True\n",
        "    )"
      ]
    },
    {
      "cell_type": "code",
      "execution_count": null,
      "metadata": {
        "id": "sGNgKrUo2lDG"
      },
      "outputs": [],
      "source": [
        "session = fo.launch_app(ocr_view, auto=False)\n",
        "session.url"
      ]
    },
    {
      "cell_type": "markdown",
      "metadata": {
        "id": "wN2m_1i2EqAb"
      },
      "source": [
        "# Meme understanding"
      ]
    },
    {
      "cell_type": "code",
      "execution_count": null,
      "metadata": {
        "id": "sL40a93m2dKb"
      },
      "outputs": [],
      "source": [
        "memeund_view = ml_memes_dataset.clone(name=\"meme_understanding\")"
      ]
    },
    {
      "cell_type": "code",
      "execution_count": null,
      "metadata": {
        "id": "MMoAYW1HEuWV"
      },
      "outputs": [],
      "source": [
        "MEME_UNDERSTANDING_QUESTION = \"\"\"This image is a meme. Describe the scene of the meme,\n",
        "its characters, what they are saying, and what the\n",
        "target audience of this meme might find funny about it.\n",
        "\"\"\"\n",
        "\n",
        "await janus_vqa(\n",
        "    memeund_view,\n",
        "    model_path=\"deepseek-ai/Janus-Pro-1B\",\n",
        "    question=MEME_UNDERSTANDING_QUESTION,\n",
        "    question_field=\"meme_understanding_question\",\n",
        "    answer_field=\"janus_meme_understanding\",\n",
        "    delegate=True\n",
        "    )"
      ]
    },
    {
      "cell_type": "code",
      "execution_count": null,
      "metadata": {
        "id": "i2bx39Z0Euaw"
      },
      "outputs": [],
      "source": [
        "await moondream(\n",
        "    memeund_view,\n",
        "    revision=\"2025-01-09\",\n",
        "    operation=\"query\",\n",
        "    output_field=\"moondream_meme_understanding\",\n",
        "    query_text=MEME_UNDERSTANDING_QUESTION,\n",
        "    delegate=True\n",
        "    )"
      ]
    },
    {
      "cell_type": "code",
      "execution_count": null,
      "metadata": {
        "id": "PafBHPYFklOB"
      },
      "outputs": [],
      "source": [
        "session = fo.launch_app(memeund_view, auto=False)\n",
        "session.url"
      ]
    },
    {
      "cell_type": "markdown",
      "metadata": {
        "id": "ANl5h0TSVxqg"
      },
      "source": [
        "## Now let's test these models on captioning"
      ]
    },
    {
      "cell_type": "code",
      "execution_count": null,
      "metadata": {
        "id": "2HhJu369avhj"
      },
      "outputs": [],
      "source": [
        "memes_dataset = fouh.load_from_hub(\n",
        "    \"harpreetsahota/memes-dataset\",\n",
        "    name=\"meme-captioning\",\n",
        "    overwrite=True\n",
        "    )\n",
        "\n",
        "uncaptioned_memes = memes_dataset.select_group_slices(\"template\")\n",
        "uncaptioned_memes = uncaptioned_memes.clone()"
      ]
    },
    {
      "cell_type": "code",
      "execution_count": null,
      "metadata": {
        "id": "plgjeTOXzzR0"
      },
      "outputs": [],
      "source": [
        "fo.launch_app(uncaptioned_memes)"
      ]
    },
    {
      "cell_type": "code",
      "execution_count": null,
      "metadata": {
        "id": "o-_FtvO4avlt"
      },
      "outputs": [],
      "source": [
        "MEME_GENERATE = \"\"\"\n",
        "This image is a meme. Write a caption for this meme that is\n",
        "realted to deep learning and artificial intelligence.\n",
        "Respond only with the caption and nothing else.\n",
        "\"\"\""
      ]
    },
    {
      "cell_type": "code",
      "execution_count": null,
      "metadata": {
        "id": "Qe7qe9GgeH0I"
      },
      "outputs": [],
      "source": [
        "await janus_vqa(\n",
        "    uncaptioned_memes,\n",
        "    model_path=\"deepseek-ai/Janus-Pro-1B\",\n",
        "    question=MEME_GENERATE,\n",
        "    question_field=\"caption_prompt\",\n",
        "    answer_field=\"janus_caption\",\n",
        "    delegate=True\n",
        "    )"
      ]
    },
    {
      "cell_type": "code",
      "execution_count": null,
      "metadata": {
        "id": "Cv8TUSeTavps"
      },
      "outputs": [],
      "source": [
        "await moondream(\n",
        "    uncaptioned_memes,\n",
        "    revision=\"2025-01-09\",\n",
        "    operation=\"query\",\n",
        "    query_text=MEME_GENERATE,\n",
        "    output_field=\"moondream_caption\",\n",
        "    delegate=True\n",
        ")"
      ]
    },
    {
      "cell_type": "code",
      "execution_count": null,
      "metadata": {
        "id": "NOWsqdzxTpA9"
      },
      "outputs": [],
      "source": [
        "session = fo.launch_app(uncaptioned_memes, auto=False)\n",
        "session.url"
      ]
    }
  ],
  "metadata": {
    "accelerator": "GPU",
    "colab": {
      "gpuType": "A100",
      "machine_shape": "hm",
      "provenance": []
    },
    "kernelspec": {
      "display_name": "fiftyone",
      "language": "python",
      "name": "python3"
    },
    "language_info": {
      "codemirror_mode": {
        "name": "ipython",
        "version": 3
      },
      "file_extension": ".py",
      "mimetype": "text/x-python",
      "name": "python",
      "nbconvert_exporter": "python",
      "pygments_lexer": "ipython3",
      "version": "3.11.0"
    }
  },
  "nbformat": 4,
  "nbformat_minor": 0
}
